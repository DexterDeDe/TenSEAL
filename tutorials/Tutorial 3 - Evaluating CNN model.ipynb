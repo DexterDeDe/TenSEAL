{
 "cells": [
  {
   "cell_type": "code",
   "execution_count": 1,
   "metadata": {},
   "outputs": [],
   "source": [
    "from time import time\n",
    "\n",
    "import torch\n",
    "import torch.nn.functional as F\n",
    "import tenseal as ts\n",
    "import numpy as np\n",
    "from skimage.util.shape import view_as_windows"
   ]
  },
  {
   "cell_type": "code",
   "execution_count": 2,
   "metadata": {},
   "outputs": [],
   "source": [
    "def memory_strided_im2col(x, kernel_shape, stride=1):\n",
    "    # Infer shapes\n",
    "    x_h, x_w = x.shape\n",
    "    k_h, k_w = kernel_shape\n",
    "    # Assuming Padding=0, Stride=1\n",
    "    out_h, out_w = ((x.shape[0] - kernel_shape[0])//stride + 1,\n",
    "                    (x.shape[1] - kernel_shape[1])//stride + 1)\n",
    "\n",
    "    windows = view_as_windows(x, kernel_shape, step=stride)\n",
    "    return windows.reshape(out_h * out_w, k_h * k_w)"
   ]
  },
  {
   "cell_type": "markdown",
   "metadata": {},
   "source": [
    "## Prepaire The Data"
   ]
  },
  {
   "cell_type": "code",
   "execution_count": 3,
   "metadata": {},
   "outputs": [],
   "source": [
    "from torchvision import datasets\n",
    "import torchvision.transforms as transforms\n",
    "\n",
    "# how many samples per batch to load\n",
    "batch_size = 20\n",
    "\n",
    "# convert data to a normalized torch.FloatTensor\n",
    "transform=transforms.Compose([\n",
    "    transforms.ToTensor()\n",
    "])\n",
    "\n",
    "# choose the training and test datasets\n",
    "train_data = datasets.MNIST('data', train=True,\n",
    "                              download=True, transform=transform)\n",
    "test_data = datasets.MNIST('data', train=False,\n",
    "                             download=True, transform=transform)\n",
    "\n",
    "# prepare data loaders (combine dataset and sampler)\n",
    "train_loader = torch.utils.data.DataLoader(train_data, batch_size=batch_size)\n",
    "test_loader = torch.utils.data.DataLoader(test_data, batch_size=batch_size)"
   ]
  },
  {
   "cell_type": "markdown",
   "metadata": {},
   "source": [
    "## Define the Network Architecture"
   ]
  },
  {
   "cell_type": "code",
   "execution_count": 4,
   "metadata": {},
   "outputs": [
    {
     "name": "stdout",
     "output_type": "stream",
     "text": [
      "Net(\n",
      "  (conv1): Conv2d(1, 4, kernel_size=(4, 4), stride=(3, 3))\n",
      "  (fc1): Linear(in_features=324, out_features=128, bias=True)\n",
      "  (fc2): Linear(in_features=128, out_features=10, bias=True)\n",
      ")\n"
     ]
    }
   ],
   "source": [
    "# define the NN architecture\n",
    "class Net(torch.nn.Module):\n",
    "    def __init__(self):\n",
    "        super(Net, self).__init__()        \n",
    "        # convolutional layer (sees 28x28 image tensor)\n",
    "        self.conv1 = torch.nn.Conv2d(1, 4, 4, padding=0, stride=3)\n",
    "        # linear layer (324 -> 128)\n",
    "        self.fc1 = torch.nn.Linear(324, 128)\n",
    "        # linear layer (128 -> 10)\n",
    "        self.fc2 = torch.nn.Linear(128, 10)\n",
    "\n",
    "    def forward(self, x):\n",
    "        # conv layer\n",
    "        x = self.conv1(x)        \n",
    "        # squaring\n",
    "        x = x * x\n",
    "        # flatten image input\n",
    "        x = x.view(-1, 4 * 9 * 9)\n",
    "        # add hidden layer, with square activation function\n",
    "        x = self.fc1(x)\n",
    "        # squaring\n",
    "        x = x * x\n",
    "        # output layer\n",
    "        x = self.fc2(x)\n",
    "        return x\n",
    "\n",
    "# initialize the NN\n",
    "model = Net()\n",
    "print(model)"
   ]
  },
  {
   "cell_type": "markdown",
   "metadata": {},
   "source": [
    "###  Specify Loss Function\n",
    "\n",
    "It's recommended that you use cross-entropy loss for classification. If you look at the documentation (linked above), you can see that PyTorch's cross entropy function applies a softmax funtion to the output layer *and* then calculates the log loss."
   ]
  },
  {
   "cell_type": "code",
   "execution_count": 5,
   "metadata": {},
   "outputs": [],
   "source": [
    "# specify loss function (categorical cross-entropy)\n",
    "criterion = torch.nn.CrossEntropyLoss()\n",
    "\n",
    "# specify optimizer (stochastic gradient descent) and learning rate = 0.01\n",
    "optimizer = torch.optim.SGD(model.parameters(), lr=0.01)"
   ]
  },
  {
   "cell_type": "markdown",
   "metadata": {},
   "source": [
    "## Train the Network\n"
   ]
  },
  {
   "cell_type": "code",
   "execution_count": 6,
   "metadata": {},
   "outputs": [
    {
     "name": "stdout",
     "output_type": "stream",
     "text": [
      "Epoch: 1 \tTraining Loss: 14.152846\n",
      "Epoch: 2 \tTraining Loss: 3.689802\n",
      "Epoch: 3 \tTraining Loss: 2.925988\n",
      "Epoch: 4 \tTraining Loss: 2.432641\n",
      "Epoch: 5 \tTraining Loss: 1.995475\n"
     ]
    }
   ],
   "source": [
    "# number of epochs to train the model\n",
    "n_epochs = 5\n",
    "\n",
    "for epoch in range(1, n_epochs+1):\n",
    "\n",
    "    # keep track of training and validation loss\n",
    "    train_loss = 0.0\n",
    "    \n",
    "    ###################\n",
    "    # train the model #\n",
    "    ###################\n",
    "    model.train()\n",
    "    for data, target in train_loader:\n",
    "        # clear the gradients of all optimized variables\n",
    "        optimizer.zero_grad()\n",
    "        # forward pass: compute predicted outputs by passing inputs to the model\n",
    "        output = model(data)\n",
    "        # calculate the batch loss\n",
    "        loss = criterion(output, target)\n",
    "        # backward pass: compute gradient of the loss with respect to model parameters\n",
    "        loss.backward()\n",
    "        # perform a single optimization step (parameter update)\n",
    "        optimizer.step()\n",
    "        # update training loss\n",
    "        train_loss += loss.item()*data.size(0)\n",
    "    \n",
    "    # calculate average losses\n",
    "    train_loss = train_loss/len(train_loader)\n",
    "        \n",
    "    # print training/validation statistics \n",
    "    print('Epoch: {} \\tTraining Loss: {:.6f}'.format(epoch, train_loss))\n",
    "    \n",
    "    # save them model\n",
    "    torch.save(model.state_dict(), 'model_mnist_tenseal.pt')"
   ]
  },
  {
   "cell_type": "markdown",
   "metadata": {},
   "source": [
    "###  Load the Model"
   ]
  },
  {
   "cell_type": "code",
   "execution_count": 7,
   "metadata": {},
   "outputs": [
    {
     "data": {
      "text/plain": [
       "<All keys matched successfully>"
      ]
     },
     "execution_count": 7,
     "metadata": {},
     "output_type": "execute_result"
    }
   ],
   "source": [
    "model.load_state_dict(torch.load('model_mnist_tenseal.pt'))"
   ]
  },
  {
   "cell_type": "markdown",
   "metadata": {},
   "source": [
    "## Test the Trained Network"
   ]
  },
  {
   "cell_type": "code",
   "execution_count": 8,
   "metadata": {},
   "outputs": [
    {
     "name": "stdout",
     "output_type": "stream",
     "text": [
      "Test Loss: 0.116564\n",
      "\n",
      "Test Accuracy of     0: 98% (969/980)\n",
      "Test Accuracy of     1: 99% (1128/1135)\n",
      "Test Accuracy of     2: 94% (979/1032)\n",
      "Test Accuracy of     3: 96% (973/1010)\n",
      "Test Accuracy of     4: 98% (966/982)\n",
      "Test Accuracy of     5: 97% (871/892)\n",
      "Test Accuracy of     6: 96% (927/958)\n",
      "Test Accuracy of     7: 96% (989/1028)\n",
      "Test Accuracy of     8: 93% (913/974)\n",
      "Test Accuracy of     9: 93% (942/1009)\n",
      "\n",
      "Test Accuracy (Overall): 96% (9657/10000)\n"
     ]
    }
   ],
   "source": [
    "# initialize lists to monitor test loss and accuracy\n",
    "test_loss = 0.0\n",
    "class_correct = list(0. for i in range(10))\n",
    "class_total = list(0. for i in range(10))\n",
    "\n",
    "model.eval() # prep model for evaluation\n",
    "\n",
    "for data, target in test_loader:\n",
    "    # forward pass: compute predicted outputs by passing inputs to the model\n",
    "    output = model(data)\n",
    "    # calculate the loss\n",
    "    loss = criterion(output, target)\n",
    "    # update test loss \n",
    "    test_loss += loss.item()*data.size(0)\n",
    "    # convert output probabilities to predicted class\n",
    "    _, pred = torch.max(output, 1)\n",
    "    # compare predictions to true label\n",
    "    correct = np.squeeze(pred.eq(target.data.view_as(pred)))\n",
    "    # calculate test accuracy for each object class\n",
    "    for i in range(len(target)):\n",
    "        label = target.data[i]\n",
    "        class_correct[label] += correct[i].item()\n",
    "        class_total[label] += 1\n",
    "\n",
    "# calculate and print avg test loss\n",
    "test_loss = test_loss/len(test_loader.sampler)\n",
    "print('Test Loss: {:.6f}\\n'.format(test_loss))\n",
    "\n",
    "for i in range(10):\n",
    "    if class_total[i] > 0:\n",
    "        print('Test Accuracy of %5s: %2d%% (%2d/%2d)' % (\n",
    "            str(i), 100 * class_correct[i] / class_total[i],\n",
    "            np.sum(class_correct[i]), np.sum(class_total[i])))\n",
    "    else:\n",
    "        print('Test Accuracy of %5s: N/A (no training examples)' % (classes[i]))\n",
    "\n",
    "print('\\nTest Accuracy (Overall): %2d%% (%2d/%2d)' % (\n",
    "    100. * np.sum(class_correct) / np.sum(class_total),\n",
    "    np.sum(class_correct), np.sum(class_total)))"
   ]
  },
  {
   "cell_type": "markdown",
   "metadata": {},
   "source": [
    "### Encrypted Evaluation \n",
    "\n",
    "In this part, we will just focus on evaluating the CNN model with plain parameters on the encrypted test-set. We first create a PyTorch-like CNN model that can evaluate encrypted data."
   ]
  },
  {
   "cell_type": "code",
   "execution_count": 9,
   "metadata": {},
   "outputs": [],
   "source": [
    "# Create TenSEAL context\n",
    "context = ts.context(\n",
    "    ts.SCHEME_TYPE.CKKS, 8192*2, coeff_mod_bit_sizes=[60, 40, 40, 40, 60]\n",
    ")\n",
    "# set the scale\n",
    "context.global_scale = pow(2, 40)\n",
    "# generated galois keys in order to do rotation on ciphertext vectors\n",
    "context.generate_galois_keys()"
   ]
  },
  {
   "cell_type": "code",
   "execution_count": 10,
   "metadata": {},
   "outputs": [],
   "source": [
    "class EncEvalModel:\n",
    "    def __init__(self, torch_nn):\n",
    "        self.conv1_out_channels = torch_nn.conv1.out_channels\n",
    "        self.conv1_kernel_size = torch_nn.conv1.kernel_size\n",
    "        self.conv1_stride = torch_nn.conv1.stride[0]\n",
    "        self.conv1_weight = torch_nn.conv1.weight.data.view(self.conv1_out_channels,\n",
    "                                                            self.conv1_kernel_size[0]**2\n",
    "                                                            ).tolist()\n",
    "        self.conv1_bias = torch_nn.conv1.bias.data.tolist()\n",
    "        \n",
    "        self.fc1_weight = torch_nn.fc1.weight.T.data.tolist()\n",
    "        self.fc1_bias = torch_nn.fc1.bias.data.tolist()\n",
    "        \n",
    "        self.fc2_weight = torch_nn.fc2.weight.T.data.tolist()\n",
    "        self.fc2_bias = torch_nn.fc2.bias.data.tolist()\n",
    "        \n",
    "        \n",
    "    def forward(self, x):\n",
    "        # conv layer\n",
    "        new_x = memory_strided_im2col(x, self.conv1_kernel_size, self.conv1_stride)     \n",
    "        # print(\"new_x shape: \", new_x.shape)\n",
    "        # print(new_x)\n",
    "        x_enc = ts.ckks_vector(context, new_x.flatten(order='F').tolist())\n",
    "\n",
    "        windows_nb = new_x.shape[0]\n",
    "        # print(\"kernel_size: \", self.conv1_kernel_size)\n",
    "        # print(\"windows number: \", windows_nb)\n",
    "        # print(\"ckksvector size: \", x_enc.size())\n",
    "\n",
    "        # TODO: pack multiple channels into single ciphertext\n",
    "        channels = []\n",
    "        for kernel in self.conv1_weight:\n",
    "            y = x_enc.conv2d_im2col(kernel, windows_nb)\n",
    "            channels += y.decrypt()\n",
    "        \n",
    "        x = ts.ckks_vector(context, channels)\n",
    "        \n",
    "        # squaring\n",
    "        x.square_()\n",
    "        # no need to flat\n",
    "        # fc1 layer\n",
    "        x = x.mm(self.fc1_weight) + self.fc1_bias\n",
    "        # squaring\n",
    "        x.square_()\n",
    "        # output layer\n",
    "        x = x.mm(self.fc2_weight) + self.fc2_bias\n",
    "        return x\n",
    "    \n",
    "    def __call__(self, *args, **kwargs):\n",
    "        return self.forward(*args, **kwargs)\n",
    "\n",
    "    \n",
    "enc_eval_model = EncEvalModel(model)"
   ]
  },
  {
   "cell_type": "code",
   "execution_count": null,
   "metadata": {
    "scrolled": true
   },
   "outputs": [],
   "source": [
    "from itertools import islice\n",
    "\n",
    "# initialize lists to monitor test loss and accuracy\n",
    "test_loss = 0.0\n",
    "class_correct = list(0. for i in range(10))\n",
    "class_total = list(0. for i in range(10))\n",
    "\n",
    "test_loader = torch.utils.data.DataLoader(test_data, batch_size=1)\n",
    "for data, target in islice(test_loader, 10):\n",
    "    # forward pass: compute predicted outputs by passing inputs to the model\n",
    "    enc_output = enc_eval_model(data.view(28, 28).numpy())\n",
    "    output = enc_output.decrypt()\n",
    "    output = torch.tensor(output).view(1, -1)\n",
    "    \n",
    "    # convert output probabilities to predicted class\n",
    "    _, pred = torch.max(output, 1)\n",
    "    # compare predictions to true label\n",
    "    correct = np.squeeze(pred.eq(target.data.view_as(pred)))\n",
    "    # calculate test accuracy for each object class\n",
    "    print(pred, correct)\n",
    "    label = target.data[0]\n",
    "    class_correct[label] += correct.item()\n",
    "    class_total[label] += 1\n",
    "\n",
    "for i in range(10):\n",
    "    if class_total[i] > 0:\n",
    "        print('Test Accuracy of %5s: %2d%% (%2d/%2d)' % (\n",
    "            str(i), 100 * class_correct[i] / class_total[i],\n",
    "            np.sum(class_correct[i]), np.sum(class_total[i])))\n",
    "    else:\n",
    "        print('Test Accuracy of %5s: N/A (no training examples)' % (classes[i]))\n",
    "\n",
    "print('\\nTest Accuracy (Overall): %2d%% (%2d/%2d)' % (\n",
    "    100. * np.sum(class_correct) / np.sum(class_total),\n",
    "    np.sum(class_correct), np.sum(class_total)))"
   ]
  },
  {
   "cell_type": "code",
   "execution_count": null,
   "metadata": {},
   "outputs": [],
   "source": []
  }
 ],
 "metadata": {
  "kernelspec": {
   "display_name": "tenseal-venv",
   "language": "python",
   "name": "tenseal-venv"
  },
  "language_info": {
   "codemirror_mode": {
    "name": "ipython",
    "version": 3
   },
   "file_extension": ".py",
   "mimetype": "text/x-python",
   "name": "python",
   "nbconvert_exporter": "python",
   "pygments_lexer": "ipython3",
   "version": "3.8.4"
  }
 },
 "nbformat": 4,
 "nbformat_minor": 4
}
