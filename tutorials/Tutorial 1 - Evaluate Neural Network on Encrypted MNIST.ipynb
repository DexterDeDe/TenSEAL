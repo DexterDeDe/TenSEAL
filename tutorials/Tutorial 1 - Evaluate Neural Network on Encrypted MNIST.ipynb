{
 "cells": [
  {
   "cell_type": "code",
   "execution_count": 1,
   "metadata": {},
   "outputs": [],
   "source": [
    "import torch\n",
    "from torchvision import datasets, transforms\n",
    "\n",
    "\n",
    "torch.manual_seed(73)\n",
    "\n",
    "train_loader = torch.utils.data.DataLoader(\n",
    "    datasets.MNIST('./MNIST', train=True, download=True,\n",
    "                   transform=transforms.Compose([\n",
    "                       transforms.ToTensor(),\n",
    "                       transforms.Normalize((0.1307,), (0.3081,))\n",
    "                   ])),\n",
    "    batch_size=64, shuffle=True)\n",
    "\n",
    "test_loader = torch.utils.data.DataLoader(\n",
    "    datasets.MNIST('./MNIST', train=False,\n",
    "                   transform=transforms.Compose([\n",
    "                       transforms.ToTensor(),\n",
    "                       transforms.Normalize((0.1307,), (0.3081,))\n",
    "                   ])),\n",
    "    batch_size=1, shuffle=True)"
   ]
  },
  {
   "cell_type": "code",
   "execution_count": 2,
   "metadata": {},
   "outputs": [],
   "source": [
    "import torch.nn as nn\n",
    "import torch.optim as optim\n",
    "\n",
    "\n",
    "class Model(nn.Module):\n",
    "    def __init__(self):\n",
    "        super(Model, self).__init__()\n",
    "        self.conv = nn.Conv2d(1, 4, kernel_size=(7, 7), stride=3, padding=0)\n",
    "        # self.fc1 = nn.Linear(28*28, 256)\n",
    "        self.fc2 = nn.Linear(256, 64)\n",
    "        self.fc3 = nn.Linear(64, 10)\n",
    "        \n",
    "    def forward(self, x):\n",
    "        batch_size = x.shape[0]\n",
    "        out = self.conv(x)\n",
    "        out = out.reshape(batch_size, -1)\n",
    "        # out = x.reshape(-1, 28*28)\n",
    "        # out = self.fc1(out)\n",
    "        out = out * out\n",
    "        out = self.fc2(out)\n",
    "        out = out * out\n",
    "        out = self.fc3(out)\n",
    "        out = nn.functional.log_softmax(out, dim=1)\n",
    "        return out"
   ]
  },
  {
   "cell_type": "code",
   "execution_count": 3,
   "metadata": {},
   "outputs": [],
   "source": [
    "def train(model, device, train_loader, optimizer, epochs):\n",
    "    model.train()\n",
    "    for epoch in range(1, epochs + 1):\n",
    "        for batch_idx, (data, target) in enumerate(train_loader):\n",
    "            data, target = data.to(device), target.to(device)\n",
    "            optimizer.zero_grad()\n",
    "            output = model(data)\n",
    "            loss = nn.functional.nll_loss(output, target)\n",
    "            loss.backward()\n",
    "            optimizer.step()\n",
    "            if batch_idx % 100 == 0:\n",
    "                print('Train Epoch: {} [{}/{} ({:.0f}%)]\\tLoss: {:.6f}'.format(\n",
    "                    epoch, batch_idx * len(data), len(train_loader.dataset),\n",
    "                    100. * batch_idx / len(train_loader), loss.item()))\n",
    "    model.eval()\n",
    "    return model"
   ]
  },
  {
   "cell_type": "code",
   "execution_count": 4,
   "metadata": {},
   "outputs": [
    {
     "name": "stdout",
     "output_type": "stream",
     "text": [
      "Train Epoch: 1 [0/60000 (0%)]\tLoss: 2.331811\n",
      "Train Epoch: 1 [6400/60000 (11%)]\tLoss: 0.752226\n",
      "Train Epoch: 1 [12800/60000 (21%)]\tLoss: 0.117648\n",
      "Train Epoch: 1 [19200/60000 (32%)]\tLoss: 0.193917\n",
      "Train Epoch: 1 [25600/60000 (43%)]\tLoss: 0.167528\n",
      "Train Epoch: 1 [32000/60000 (53%)]\tLoss: 0.088869\n",
      "Train Epoch: 1 [38400/60000 (64%)]\tLoss: 0.102991\n",
      "Train Epoch: 1 [44800/60000 (75%)]\tLoss: 0.130522\n",
      "Train Epoch: 1 [51200/60000 (85%)]\tLoss: 0.093462\n",
      "Train Epoch: 1 [57600/60000 (96%)]\tLoss: 0.094010\n",
      "Train Epoch: 2 [0/60000 (0%)]\tLoss: 0.158008\n",
      "Train Epoch: 2 [6400/60000 (11%)]\tLoss: 0.224738\n",
      "Train Epoch: 2 [12800/60000 (21%)]\tLoss: 0.014223\n",
      "Train Epoch: 2 [19200/60000 (32%)]\tLoss: 0.106995\n",
      "Train Epoch: 2 [25600/60000 (43%)]\tLoss: 0.199205\n",
      "Train Epoch: 2 [32000/60000 (53%)]\tLoss: 0.049673\n",
      "Train Epoch: 2 [38400/60000 (64%)]\tLoss: 0.013994\n",
      "Train Epoch: 2 [44800/60000 (75%)]\tLoss: 0.018575\n",
      "Train Epoch: 2 [51200/60000 (85%)]\tLoss: 0.088842\n",
      "Train Epoch: 2 [57600/60000 (96%)]\tLoss: 0.127322\n",
      "Train Epoch: 3 [0/60000 (0%)]\tLoss: 0.091289\n",
      "Train Epoch: 3 [6400/60000 (11%)]\tLoss: 0.039917\n",
      "Train Epoch: 3 [12800/60000 (21%)]\tLoss: 0.175222\n",
      "Train Epoch: 3 [19200/60000 (32%)]\tLoss: 0.015024\n",
      "Train Epoch: 3 [25600/60000 (43%)]\tLoss: 0.034271\n",
      "Train Epoch: 3 [32000/60000 (53%)]\tLoss: 0.006714\n",
      "Train Epoch: 3 [38400/60000 (64%)]\tLoss: 0.050206\n",
      "Train Epoch: 3 [44800/60000 (75%)]\tLoss: 0.142401\n",
      "Train Epoch: 3 [51200/60000 (85%)]\tLoss: 0.059489\n",
      "Train Epoch: 3 [57600/60000 (96%)]\tLoss: 0.041488\n",
      "Train Epoch: 4 [0/60000 (0%)]\tLoss: 0.118211\n",
      "Train Epoch: 4 [6400/60000 (11%)]\tLoss: 0.002815\n",
      "Train Epoch: 4 [12800/60000 (21%)]\tLoss: 0.020541\n",
      "Train Epoch: 4 [19200/60000 (32%)]\tLoss: 0.115397\n",
      "Train Epoch: 4 [25600/60000 (43%)]\tLoss: 0.031990\n",
      "Train Epoch: 4 [32000/60000 (53%)]\tLoss: 0.042713\n",
      "Train Epoch: 4 [38400/60000 (64%)]\tLoss: 0.035759\n",
      "Train Epoch: 4 [44800/60000 (75%)]\tLoss: 0.093168\n",
      "Train Epoch: 4 [51200/60000 (85%)]\tLoss: 0.064088\n",
      "Train Epoch: 4 [57600/60000 (96%)]\tLoss: 0.087755\n",
      "Train Epoch: 5 [0/60000 (0%)]\tLoss: 0.078836\n",
      "Train Epoch: 5 [6400/60000 (11%)]\tLoss: 0.016197\n",
      "Train Epoch: 5 [12800/60000 (21%)]\tLoss: 0.151361\n",
      "Train Epoch: 5 [19200/60000 (32%)]\tLoss: 0.019450\n",
      "Train Epoch: 5 [25600/60000 (43%)]\tLoss: 0.045780\n",
      "Train Epoch: 5 [32000/60000 (53%)]\tLoss: 0.117883\n",
      "Train Epoch: 5 [38400/60000 (64%)]\tLoss: 0.012022\n",
      "Train Epoch: 5 [44800/60000 (75%)]\tLoss: 0.029605\n",
      "Train Epoch: 5 [51200/60000 (85%)]\tLoss: 0.012864\n",
      "Train Epoch: 5 [57600/60000 (96%)]\tLoss: 0.035603\n"
     ]
    }
   ],
   "source": [
    "model = Model()\n",
    "optimizer = optim.Adam(model.parameters(), lr=0.001)\n",
    "device = torch.device(\"cuda\" if torch.cuda.is_available() else \"cpu\")\n",
    "\n",
    "model = train(model, device, train_loader, optimizer, 5)"
   ]
  },
  {
   "cell_type": "code",
   "execution_count": 5,
   "metadata": {},
   "outputs": [],
   "source": [
    "def test(model, device, test_loader):\n",
    "    model.eval()\n",
    "    test_loss = 0\n",
    "    correct = 0\n",
    "    with torch.no_grad():\n",
    "        for data, target in test_loader:\n",
    "            data, target = data.to(device), target.to(device)\n",
    "            output = model(data)\n",
    "            test_loss += nn.functional.nll_loss(output, target, reduction='sum').item()  # sum up batch loss\n",
    "            pred = output.argmax(dim=1, keepdim=True)  # get the index of the max log-probability\n",
    "            correct += pred.eq(target.view_as(pred)).sum().item()\n",
    "\n",
    "    test_loss /= len(test_loader.dataset)\n",
    "\n",
    "    print('\\nTest set: Average loss: {:.4f}, Accuracy: {}/{} ({:.0f}%)\\n'.format(\n",
    "        test_loss, correct, len(test_loader.dataset),\n",
    "        100. * correct / len(test_loader.dataset)))"
   ]
  },
  {
   "cell_type": "code",
   "execution_count": 6,
   "metadata": {},
   "outputs": [
    {
     "name": "stdout",
     "output_type": "stream",
     "text": [
      "\n",
      "Test set: Average loss: 0.0872, Accuracy: 9788/10000 (98%)\n",
      "\n"
     ]
    }
   ],
   "source": [
    "test(model, device, test_loader)"
   ]
  },
  {
   "cell_type": "code",
   "execution_count": 7,
   "metadata": {},
   "outputs": [],
   "source": [
    "import tenseal as ts\n",
    "\n",
    "class HEModel:\n",
    "    def __init__(self, ts_context, fc1, fc2, fc3):\n",
    "        self.ts_context = ts_context\n",
    "        self.fc1_weight = fc1.weight.t().tolist()\n",
    "        self.fc1_bias = fc1.bias.tolist()\n",
    "        self.fc2_weight = fc2.weight.t().tolist()\n",
    "        self.fc2_bias = fc2.bias.tolist()\n",
    "        self.fc3_weight = fc3.weight.t().tolist()\n",
    "        self.fc3_bias = fc3.bias.tolist()\n",
    "        \n",
    "    def forward(self, x):\n",
    "        batch_size = x.shape[0]\n",
    "        out = []\n",
    "        for i in range(batch_size):\n",
    "            # reshape single image into vector and encrypt it\n",
    "            vec = x[i].flatten().tolist()\n",
    "            encrypted_vec = ts.ckks_vector(self.ts_context, vec)\n",
    "            # first fc layer + square activation function\n",
    "            encrypted_vec = encrypted_vec.mm(self.fc1_weight) + self.fc1_bias\n",
    "            encrypted_vec *= encrypted_vec\n",
    "            # second fc layer + square activation function\n",
    "            encrypted_vec = encrypted_vec.mm(self.fc2_weight) + self.fc2_bias\n",
    "            encrypted_vec *= encrypted_vec\n",
    "            # third fc layer\n",
    "            encrypted_vec = encrypted_vec.mm(self.fc3_weight) + self.fc3_bias\n",
    "            # decrypt\n",
    "            out.append(encrypted_vec.decrypt())\n",
    "            \n",
    "        out = torch.tensor(out)\n",
    "        out = nn.functional.log_softmax(out, dim=1)\n",
    "        return out\n",
    "    \n",
    "    def __call__(self, x):\n",
    "        return self.forward(x)\n"
   ]
  },
  {
   "cell_type": "code",
   "execution_count": 8,
   "metadata": {},
   "outputs": [],
   "source": [
    "context = ts.context(ts.SCHEME_TYPE.CKKS, 8192, coeff_mod_bit_sizes=[40, 21, 21, 21, 21, 21, 40])\n",
    "context.global_scale = 2 ** 21\n",
    "context.generate_galois_keys()\n",
    "he_model = HEModel(context, model.fc1, model.fc2, model.fc3)"
   ]
  },
  {
   "cell_type": "code",
   "execution_count": 9,
   "metadata": {},
   "outputs": [
    {
     "name": "stdout",
     "output_type": "stream",
     "text": [
      "\n",
      "Test set: Average loss: 1.0815, Accuracy: 113/120 (94%)\n",
      "\n",
      "Evaluation of 120 pictures took 31.11869985659917 min\n"
     ]
    }
   ],
   "source": [
    "from time import time\n",
    "\n",
    "t_start = time()\n",
    "\n",
    "test_loss = 0\n",
    "correct = 0\n",
    "count = 120\n",
    "i = 0\n",
    "with torch.no_grad():\n",
    "    for data, target in test_loader:\n",
    "        data, target = data.to(device), target.to(device)\n",
    "        output = he_model(data)\n",
    "        test_loss += nn.functional.nll_loss(output, target, reduction='sum').item()  # sum up batch loss\n",
    "        pred = output.argmax(dim=1, keepdim=True)  # get the index of the max log-probability\n",
    "        correct += pred.eq(target.view_as(pred)).sum().item()\n",
    "        i += 1\n",
    "        if i == count:\n",
    "            break\n",
    "        \n",
    "test_loss /= count\n",
    "\n",
    "print('\\nTest set: Average loss: {:.4f}, Accuracy: {}/{} ({:.0f}%)\\n'.format(\n",
    "    test_loss, correct, count,\n",
    "    100. * correct / count))\n",
    "\n",
    "t_end = time()\n",
    "print(f\"Evaluation of {count} pictures took {(t_end - t_start) / 60} min\")"
   ]
  },
  {
   "cell_type": "markdown",
   "metadata": {},
   "source": [
    "## Possible improvement\n",
    "\n",
    "- Decrease hidden layers (256->128 and 64->32)\n",
    "- Use smaller poly_modulus => use coeff mod [60, 40, 40, 60] with a scale of 20 so that we do 2 multiplication before rescaling\n",
    "- restructure the diagonals is a single plaintext"
   ]
  }
 ],
 "metadata": {
  "kernelspec": {
   "display_name": "Python 3",
   "language": "python",
   "name": "python3"
  },
  "language_info": {
   "codemirror_mode": {
    "name": "ipython",
    "version": 3
   },
   "file_extension": ".py",
   "mimetype": "text/x-python",
   "name": "python",
   "nbconvert_exporter": "python",
   "pygments_lexer": "ipython3",
   "version": "3.8.2"
  }
 },
 "nbformat": 4,
 "nbformat_minor": 2
}
